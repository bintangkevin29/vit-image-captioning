{
 "cells": [
  {
   "cell_type": "code",
   "execution_count": 2,
   "metadata": {},
   "outputs": [
    {
     "name": "stdout",
     "output_type": "stream",
     "text": [
      "loading annotations into memory...\n"
     ]
    },
    {
     "ename": "FileNotFoundError",
     "evalue": "[Errno 2] No such file or directory: 'path_to_COCO_annotations'",
     "output_type": "error",
     "traceback": [
      "\u001b[0;31m---------------------------------------------------------------------------\u001b[0m",
      "\u001b[0;31mFileNotFoundError\u001b[0m                         Traceback (most recent call last)",
      "Cell \u001b[0;32mIn[2], line 19\u001b[0m\n\u001b[1;32m     14\u001b[0m \u001b[39m# Assuming the COCO dataset is available\u001b[39;00m\n\u001b[1;32m     15\u001b[0m transform \u001b[39m=\u001b[39m transforms\u001b[39m.\u001b[39mCompose([\n\u001b[1;32m     16\u001b[0m     transforms\u001b[39m.\u001b[39mResize((\u001b[39m224\u001b[39m, \u001b[39m224\u001b[39m)),\n\u001b[1;32m     17\u001b[0m     transforms\u001b[39m.\u001b[39mToTensor()\n\u001b[1;32m     18\u001b[0m ])\n\u001b[0;32m---> 19\u001b[0m coco_dataset \u001b[39m=\u001b[39m CocoCaptions(root\u001b[39m=\u001b[39;49m\u001b[39m\"\u001b[39;49m\u001b[39mpath_to_COCO_images\u001b[39;49m\u001b[39m\"\u001b[39;49m, annFile\u001b[39m=\u001b[39;49m\u001b[39m\"\u001b[39;49m\u001b[39mpath_to_COCO_annotations\u001b[39;49m\u001b[39m\"\u001b[39;49m, transform\u001b[39m=\u001b[39;49mtransform)\n\u001b[1;32m     20\u001b[0m dataloader \u001b[39m=\u001b[39m DataLoader(coco_dataset, batch_size\u001b[39m=\u001b[39m\u001b[39m8\u001b[39m, shuffle\u001b[39m=\u001b[39m\u001b[39mTrue\u001b[39;00m)\n\u001b[1;32m     22\u001b[0m optimizer \u001b[39m=\u001b[39m AdamW(gpt2_model\u001b[39m.\u001b[39mparameters(), lr\u001b[39m=\u001b[39m\u001b[39m1e-4\u001b[39m)\n",
      "File \u001b[0;32m~/miniconda3/lib/python3.10/site-packages/torchvision/datasets/coco.py:36\u001b[0m, in \u001b[0;36mCocoDetection.__init__\u001b[0;34m(self, root, annFile, transform, target_transform, transforms)\u001b[0m\n\u001b[1;32m     33\u001b[0m \u001b[39msuper\u001b[39m()\u001b[39m.\u001b[39m\u001b[39m__init__\u001b[39m(root, transforms, transform, target_transform)\n\u001b[1;32m     34\u001b[0m \u001b[39mfrom\u001b[39;00m \u001b[39mpycocotools\u001b[39;00m\u001b[39m.\u001b[39;00m\u001b[39mcoco\u001b[39;00m \u001b[39mimport\u001b[39;00m COCO\n\u001b[0;32m---> 36\u001b[0m \u001b[39mself\u001b[39m\u001b[39m.\u001b[39mcoco \u001b[39m=\u001b[39m COCO(annFile)\n\u001b[1;32m     37\u001b[0m \u001b[39mself\u001b[39m\u001b[39m.\u001b[39mids \u001b[39m=\u001b[39m \u001b[39mlist\u001b[39m(\u001b[39msorted\u001b[39m(\u001b[39mself\u001b[39m\u001b[39m.\u001b[39mcoco\u001b[39m.\u001b[39mimgs\u001b[39m.\u001b[39mkeys()))\n",
      "File \u001b[0;32m~/miniconda3/lib/python3.10/site-packages/pycocotools/coco.py:81\u001b[0m, in \u001b[0;36mCOCO.__init__\u001b[0;34m(self, annotation_file)\u001b[0m\n\u001b[1;32m     79\u001b[0m \u001b[39mprint\u001b[39m(\u001b[39m'\u001b[39m\u001b[39mloading annotations into memory...\u001b[39m\u001b[39m'\u001b[39m)\n\u001b[1;32m     80\u001b[0m tic \u001b[39m=\u001b[39m time\u001b[39m.\u001b[39mtime()\n\u001b[0;32m---> 81\u001b[0m \u001b[39mwith\u001b[39;00m \u001b[39mopen\u001b[39;49m(annotation_file, \u001b[39m'\u001b[39;49m\u001b[39mr\u001b[39;49m\u001b[39m'\u001b[39;49m) \u001b[39mas\u001b[39;00m f:\n\u001b[1;32m     82\u001b[0m     dataset \u001b[39m=\u001b[39m json\u001b[39m.\u001b[39mload(f)\n\u001b[1;32m     83\u001b[0m \u001b[39massert\u001b[39;00m \u001b[39mtype\u001b[39m(dataset)\u001b[39m==\u001b[39m\u001b[39mdict\u001b[39m, \u001b[39m'\u001b[39m\u001b[39mannotation file format \u001b[39m\u001b[39m{}\u001b[39;00m\u001b[39m not supported\u001b[39m\u001b[39m'\u001b[39m\u001b[39m.\u001b[39mformat(\u001b[39mtype\u001b[39m(dataset))\n",
      "\u001b[0;31mFileNotFoundError\u001b[0m: [Errno 2] No such file or directory: 'path_to_COCO_annotations'"
     ]
    }
   ],
   "source": [
    "import torch\n",
    "from torch.utils.data import DataLoader\n",
    "from transformers import GPT2LMHeadModel, GPT2Tokenizer, GPT2Config, AdamW\n",
    "from torchvision.datasets import CocoCaptions\n",
    "from torchvision.transforms import transforms\n",
    "import timm\n",
    "\n",
    "# 1. Set up models and tokenizer\n",
    "vit_model = timm.create_model(\"vit_base_patch16_224_in21k\", pretrained=True).eval()\n",
    "gpt2_config = GPT2Config.from_pretrained(\"gpt2-medium\")\n",
    "gpt2_model = GPT2LMHeadModel(gpt2_config)\n",
    "tokenizer = GPT2Tokenizer.from_pretrained(\"gpt2-medium\")\n",
    "\n",
    "# Assuming the COCO dataset is available\n",
    "transform = transforms.Compose([\n",
    "    transforms.Resize((224, 224)),\n",
    "    transforms.ToTensor()\n",
    "])\n",
    "coco_dataset = CocoCaptions(root=\"./datasets/\", annFile=\"./datasets/annotations/\", transform=transform)\n",
    "dataloader = DataLoader(coco_dataset, batch_size=8, shuffle=True)\n",
    "\n",
    "optimizer = AdamW(gpt2_model.parameters(), lr=1e-4)\n",
    "\n",
    "# 2. Training Loop\n",
    "for epoch in range(num_epochs):\n",
    "    for images, captions in dataloader:\n",
    "        optimizer.zero_grad()\n",
    "\n",
    "        # Extract image features using ViT\n",
    "        image_features = vit_model(images)\n",
    "\n",
    "        # Tokenize captions and get input and target tokens\n",
    "        input_ids = tokenizer(captions, return_tensors=\"pt\", padding=\"max_length\", max_length=50, truncation=True).input_ids\n",
    "        target_ids = input_ids[:, 1:]\n",
    "        input_ids = input_ids[:, :-1]\n",
    "\n",
    "        # Combine image features with token input ids\n",
    "        # Note: This is a simplification; you'd likely need to integrate image features more elegantly with the token inputs.\n",
    "        combined_inputs = torch.cat([image_features, input_ids], dim=1)\n",
    "\n",
    "        # Forward pass through GPT-2 model\n",
    "        outputs = gpt2_model(input_ids=combined_inputs, labels=target_ids)\n",
    "        loss = outputs.loss\n",
    "\n",
    "        # Backward pass and optimizer step\n",
    "        loss.backward()\n",
    "        optimizer.step()"
   ]
  }
 ],
 "metadata": {
  "kernelspec": {
   "display_name": "base",
   "language": "python",
   "name": "python3"
  },
  "language_info": {
   "codemirror_mode": {
    "name": "ipython",
    "version": 3
   },
   "file_extension": ".py",
   "mimetype": "text/x-python",
   "name": "python",
   "nbconvert_exporter": "python",
   "pygments_lexer": "ipython3",
   "version": "3.10.12"
  },
  "orig_nbformat": 4
 },
 "nbformat": 4,
 "nbformat_minor": 2
}
