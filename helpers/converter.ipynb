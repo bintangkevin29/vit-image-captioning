{
 "cells": [
  {
   "cell_type": "code",
   "execution_count": null,
   "metadata": {},
   "outputs": [],
   "source": [
    "\n",
    "import json\n",
    "from IPython.display import clear_output\n",
    "\n",
    "basepath = '/home/bintangkevin29/.cache/huggingface/datasets/downloads/extracted/dd9c5bc703cccfd06c3e3968737e1fb21b9b2374443f3b63539d2f8f8bced99a'\n",
    " \n",
    "\n",
    "def open_data_json(path):\n",
    "    with open(path, 'r') as file:\n",
    "        json_data = json.load(file)\n",
    "    return json_data"
   ]
  },
  {
   "cell_type": "code",
   "execution_count": null,
   "metadata": {},
   "outputs": [],
   "source": [
    "from transformers import pipeline\n",
    "from tqdm import tqdm\n",
    "translator = pipeline(\"translation\", model=\"Helsinki-NLP/opus-mt-en-id\")\n",
    "\n",
    "def create_minified_json_file(file_path, data):\n",
    "    with open(file_path, 'w') as file:\n",
    "        json.dump(data, file, separators=(',', ':'))\n",
    "\n",
    "\n",
    "def write_translation_caption(annotation_data):\n",
    "    for i, entry in tqdm(enumerate(annotation_data)): \n",
    "        # if(i==10):\n",
    "        #     break;\n",
    "        entry['caption'] = translator(entry['caption'])[0]['translation_text']"
   ]
  },
  {
   "cell_type": "code",
   "execution_count": 96,
   "metadata": {},
   "outputs": [
    {
     "name": "stderr",
     "output_type": "stream",
     "text": [
      "25014it [56:32,  7.37it/s]\n"
     ]
    }
   ],
   "source": [
    "captionsVal = open_data_json(f\"{basepath}/annotations/captions_val2017.json\")\n",
    "write_translation_caption(captionsVal['annotations'])\n",
    "# print(captionsVal['annotations'][0])\n",
    "create_minified_json_file(f'{basepath}/annotations/captions_val2017_id.json', captionsVal)"
   ]
  },
  {
   "cell_type": "code",
   "execution_count": 97,
   "metadata": {},
   "outputs": [
    {
     "name": "stderr",
     "output_type": "stream",
     "text": [
      "591753it [22:49:01,  7.20it/s]\n"
     ]
    },
    {
     "ename": "",
     "evalue": "",
     "output_type": "error",
     "traceback": [
      "\u001b[1;31mThe Kernel crashed while executing code in the the current cell or a previous cell. Please review the code in the cell(s) to identify a possible cause of the failure. Click <a href='https://aka.ms/vscodeJupyterKernelCrash'>here</a> for more info. View Jupyter <a href='command:jupyter.viewOutput'>log</a> for further details."
     ]
    }
   ],
   "source": [
    "captionsTrain = open_data_json(f\"{basepath}/annotations/captions_train2017.json\")\n",
    "write_translation_caption(captionsTrain['annotations'])\n",
    "create_minified_json_file(f'{basepath}/annotations/captions_train2017_id.json', captionsTrain)"
   ]
  }
 ],
 "metadata": {
  "kernelspec": {
   "display_name": "base",
   "language": "python",
   "name": "python3"
  },
  "language_info": {
   "codemirror_mode": {
    "name": "ipython",
    "version": 3
   },
   "file_extension": ".py",
   "mimetype": "text/x-python",
   "name": "python",
   "nbconvert_exporter": "python",
   "pygments_lexer": "ipython3",
   "version": "3.10.12"
  },
  "orig_nbformat": 4
 },
 "nbformat": 4,
 "nbformat_minor": 2
}
